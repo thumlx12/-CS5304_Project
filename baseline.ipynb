{
 "cells": [
  {
   "cell_type": "markdown",
   "metadata": {},
   "source": [
    "# Light GBM"
   ]
  },
  {
   "cell_type": "code",
   "execution_count": 2,
   "metadata": {
    "collapsed": true
   },
   "outputs": [],
   "source": [
    "import pandas as pd\n",
    "import time\n",
    "import numpy as np\n",
    "from sklearn.cross_validation import train_test_split\n",
    "import lightgbm as lgb\n",
    "import gc"
   ]
  },
  {
   "cell_type": "code",
   "execution_count": 3,
   "metadata": {
    "collapsed": true
   },
   "outputs": [],
   "source": [
    "def lgb_modelfit_nocv(params, dtrain, dvalid, predictors, target='target', objective='binary', metrics='auc',\n",
    "                      feval=None, early_stopping_rounds=20, num_boost_round=3000, verbose_eval=10,\n",
    "                      categorical_features=None):\n",
    "    lgb_params = {\n",
    "        'boosting_type': 'gbdt',\n",
    "        'objective': objective,\n",
    "        'metric': metrics,\n",
    "        'learning_rate': 0.01,\n",
    "        # 'is_unbalance': 'true',  #because training data is unbalance (replaced with scale_pos_weight)\n",
    "        'num_leaves': 31,  # we should let it be smaller than 2^(max_depth)\n",
    "        'max_depth': -1,  # -1 means no limit\n",
    "        'min_child_samples': 20,  # Minimum number of data need in a child(min_data_in_leaf)\n",
    "        'max_bin': 255,  # Number of bucketed bin for feature values\n",
    "        'subsample': 0.6,  # Subsample ratio of the training instance.\n",
    "        'subsample_freq': 0,  # frequence of subsample, <=0 means no enable\n",
    "        'colsample_bytree': 0.3,  # Subsample ratio of columns when constructing each tree.\n",
    "        'min_child_weight': 5,  # Minimum sum of instance weight(hessian) needed in a child(leaf)\n",
    "        'subsample_for_bin': 200000,  # Number of samples for constructing bin\n",
    "        'min_split_gain': 0,  # lambda_l1, lambda_l2 and min_gain_to_split to regularization\n",
    "        'reg_alpha': 0,  # L1 regularization term on weights\n",
    "        'reg_lambda': 0,  # L2 regularization term on weights\n",
    "        'nthread': 4,\n",
    "        'verbose': 0,\n",
    "        'metric': metrics\n",
    "    }\n",
    "\n",
    "    lgb_params.update(params)\n",
    "\n",
    "    print(\"preparing validation datasets\")\n",
    "\n",
    "    xgtrain = lgb.Dataset(dtrain[predictors].values, label=dtrain[target].values,\n",
    "                          feature_name=predictors,\n",
    "                          categorical_feature=categorical_features\n",
    "                          )\n",
    "    xgvalid = lgb.Dataset(dvalid[predictors].values, label=dvalid[target].values,\n",
    "                          feature_name=predictors,\n",
    "                          categorical_feature=categorical_features\n",
    "                          )\n",
    "\n",
    "    evals_results = {}\n",
    "\n",
    "    bst1 = lgb.train(lgb_params,\n",
    "                     xgtrain,\n",
    "                     valid_sets=[xgtrain, xgvalid],\n",
    "                     valid_names=['train', 'valid'],\n",
    "                     evals_result=evals_results,\n",
    "                     num_boost_round=num_boost_round,\n",
    "                     early_stopping_rounds=early_stopping_rounds,\n",
    "                     verbose_eval=10,\n",
    "                     feval=feval)\n",
    "\n",
    "    n_estimators = bst1.best_iteration\n",
    "    print(\"\\nModel Report\")\n",
    "    print(\"n_estimators : \", n_estimators)\n",
    "    print(metrics + \":\", evals_results['valid'][metrics][n_estimators - 1])\n",
    "\n",
    "    return bst1\n"
   ]
  },
  {
   "cell_type": "code",
   "execution_count": 67,
   "metadata": {},
   "outputs": [
    {
     "name": "stdout",
     "output_type": "stream",
     "text": [
      "loading train data...\n"
     ]
    }
   ],
   "source": [
    "dtypes = {\n",
    "    'ip': 'uint32',\n",
    "    'app': 'uint16',\n",
    "    'device': 'uint16',\n",
    "    'os': 'uint16',\n",
    "    'channel': 'uint16',\n",
    "    'is_attributed': 'uint8',\n",
    "    'click_id': 'uint32'\n",
    "}\n",
    "print('loading train data...')\n",
    "train_df = pd.read_csv('/Users/mlx/Downloads/Document/talking_data/train_sample.csv', dtype=dtypes,\n",
    "                       usecols=['ip', 'app', 'device', 'os', 'channel', 'click_time', 'is_attributed'])"
   ]
  },
  {
   "cell_type": "code",
   "execution_count": 68,
   "metadata": {},
   "outputs": [
    {
     "name": "stdout",
     "output_type": "stream",
     "text": [
      "Extracting new time-related features...\n"
     ]
    }
   ],
   "source": [
    "print('Extracting new time-related features...')\n",
    "train_df['second'] = pd.to_datetime(train_df.click_time).dt.second.astype('uint8')\n",
    "train_df['minute'] = pd.to_datetime(train_df.click_time).dt.minute.astype('uint8')\n",
    "train_df['hour'] = pd.to_datetime(train_df.click_time).dt.hour.astype('uint8')\n",
    "train_df['day'] = pd.to_datetime(train_df.click_time).dt.day.astype('uint8')\n",
    "train_df['month'] = pd.to_datetime(train_df.click_time).dt.month.astype('uint8')"
   ]
  },
  {
   "cell_type": "code",
   "execution_count": 69,
   "metadata": {
    "collapsed": true
   },
   "outputs": [],
   "source": [
    "total = len(train_df)\n",
    "r_size = total // 4\n",
    "val_df = train_df[:r_size]\n",
    "train_df = train_df[r_size:]"
   ]
  },
  {
   "cell_type": "code",
   "execution_count": 76,
   "metadata": {},
   "outputs": [
    {
     "name": "stdout",
     "output_type": "stream",
     "text": [
      "preparing validation datasets\n",
      "Training until validation scores don't improve for 100 rounds.\n",
      "[10]\ttrain's auc: 0.993087\tvalid's auc: 0.966497\n",
      "[20]\ttrain's auc: 0.997953\tvalid's auc: 0.95894\n"
     ]
    },
    {
     "name": "stderr",
     "output_type": "stream",
     "text": [
      "/Users/mlx/anaconda3/lib/python3.6/site-packages/lightgbm/basic.py:1036: UserWarning: Using categorical_feature in Dataset.\n",
      "  warnings.warn('Using categorical_feature in Dataset.')\n",
      "/Users/mlx/anaconda3/lib/python3.6/site-packages/lightgbm/basic.py:681: UserWarning: categorical_feature in param dict is overrided.\n",
      "  warnings.warn('categorical_feature in param dict is overrided.')\n"
     ]
    },
    {
     "name": "stdout",
     "output_type": "stream",
     "text": [
      "[30]\ttrain's auc: 0.998722\tvalid's auc: 0.953376\n",
      "[40]\ttrain's auc: 0.999206\tvalid's auc: 0.953392\n",
      "[50]\ttrain's auc: 0.999489\tvalid's auc: 0.940056\n",
      "[60]\ttrain's auc: 0.999701\tvalid's auc: 0.934006\n",
      "[70]\ttrain's auc: 0.999801\tvalid's auc: 0.928214\n",
      "[80]\ttrain's auc: 0.999902\tvalid's auc: 0.923562\n",
      "[90]\ttrain's auc: 0.999965\tvalid's auc: 0.914762\n",
      "[100]\ttrain's auc: 0.999985\tvalid's auc: 0.90927\n",
      "[110]\ttrain's auc: 0.999997\tvalid's auc: 0.905816\n",
      "Early stopping, best iteration is:\n",
      "[10]\ttrain's auc: 0.993087\tvalid's auc: 0.966497\n",
      "\n",
      "Model Report\n",
      "n_estimators :  10\n",
      "auc: 0.966497107426\n"
     ]
    }
   ],
   "source": [
    "target = 'is_attributed'\n",
    "predictors = ['ip', 'app', 'device', 'os', 'channel', 'second', 'minute','hour', 'day', 'month']\n",
    "categorical = ['ip', 'app', 'device', 'os', 'channel', 'second', 'minute','hour', 'day', 'month']\n",
    "params = {\n",
    "    'learning_rate': 0.15,\n",
    "    # 'is_unbalance': 'true', # replaced with scale_pos_weight argument\n",
    "    'num_leaves': 12,  # 2^max_depth - 1\n",
    "    'max_depth': 4,  # -1 means no limit\n",
    "    'min_child_samples': 100,  # Minimum number of data need in a child(min_data_in_leaf)\n",
    "    'max_bin': 100,  # Number of bucketed bin for feature values\n",
    "    'subsample': 0.7,  # Subsample ratio of the training instance.\n",
    "    'subsample_freq': 1,  # frequence of subsample, <=0 means no enable\n",
    "    'colsample_bytree': 0.9,  # Subsample ratio of columns when constructing each tree.\n",
    "    'min_child_weight': 0,  # Minimum sum of instance weight(hessian) needed in a child(leaf)\n",
    "    'scale_pos_weight': 99  # because training data is extremely unbalanced\n",
    "}\n",
    "\n",
    "bst = lgb_modelfit_nocv(params,\n",
    "                        train_df,\n",
    "                        val_df,\n",
    "                        predictors,\n",
    "                        target,\n",
    "                        objective='binary',\n",
    "                        metrics='auc',\n",
    "                        early_stopping_rounds=100,\n",
    "                        verbose_eval=True,\n",
    "                        num_boost_round=500,\n",
    "                        categorical_features=categorical)"
   ]
  },
  {
   "cell_type": "code",
   "execution_count": 77,
   "metadata": {
    "collapsed": true
   },
   "outputs": [],
   "source": [
    "test_df = pd.read_csv('/Users/mlx/Downloads/Document/talking_data/test.csv', dtype=dtypes,\n",
    "                      usecols=['ip', 'app', 'device', 'os', 'channel', 'click_time', 'click_id'])"
   ]
  },
  {
   "cell_type": "code",
   "execution_count": 79,
   "metadata": {
    "collapsed": true
   },
   "outputs": [],
   "source": [
    "test_df['second'] = pd.to_datetime(test_df.click_time).dt.second.astype('uint8')\n",
    "test_df['minute'] = pd.to_datetime(test_df.click_time).dt.minute.astype('uint8')\n",
    "test_df['hour'] = pd.to_datetime(test_df.click_time).dt.hour.astype('uint8')\n",
    "test_df['day'] = pd.to_datetime(test_df.click_time).dt.day.astype('uint8')\n",
    "test_df['month'] = pd.to_datetime(test_df.click_time).dt.month.astype('uint8')\n",
    "test_df['click_id'] = test_df['click_id'].astype('int')"
   ]
  },
  {
   "cell_type": "code",
   "execution_count": 80,
   "metadata": {
    "collapsed": true
   },
   "outputs": [],
   "source": [
    "test_df['is_attributed'] = bst.predict(test_df[predictors])\n",
    "test_df.to_csv('baseline_balanced99.csv', index=False)"
   ]
  },
  {
   "cell_type": "code",
   "execution_count": 82,
   "metadata": {
    "collapsed": true
   },
   "outputs": [],
   "source": [
    "test_df[['click_id', 'is_attributed']].to_csv('baseline_balanced99.csv', index=False)"
   ]
  },
  {
   "cell_type": "code",
   "execution_count": 83,
   "metadata": {
    "collapsed": true
   },
   "outputs": [],
   "source": [
    "train_df_2 = pd.read_csv('/Users/mlx/Downloads/Document/talking_data/train_sample.csv', dtype=dtypes,\n",
    "                       usecols=['ip', 'app', 'device', 'os', 'channel', 'click_time', 'is_attributed'])"
   ]
  },
  {
   "cell_type": "code",
   "execution_count": 84,
   "metadata": {},
   "outputs": [
    {
     "data": {
      "text/plain": [
       "<pandas.core.indexing._iLocIndexer at 0x1a1056ea58>"
      ]
     },
     "execution_count": 84,
     "metadata": {},
     "output_type": "execute_result"
    }
   ],
   "source": [
    "r_size = 10\n",
    "sample_idx = random.sample(range(100), r_size)"
   ]
  },
  {
   "cell_type": "markdown",
   "metadata": {},
   "source": [
    "# Track Baseline"
   ]
  },
  {
   "cell_type": "code",
   "execution_count": 50,
   "metadata": {
    "collapsed": true
   },
   "outputs": [],
   "source": [
    "import pandas as pd\n",
    "from sklearn.model_selection import train_test_split\n",
    "from sklearn.linear_model import LogisticRegression\n",
    "from sklearn.ensemble import RandomForestClassifier\n",
    "from sklearn.ensemble import GradientBoostingClassifier\n",
    "from sklearn.ensemble import AdaBoostClassifier\n",
    "from sklearn.ensemble import BaggingClassifier\n",
    "from sklearn.ensemble import ExtraTreesClassifier\n",
    "from sklearn import metrics"
   ]
  },
  {
   "cell_type": "markdown",
   "metadata": {},
   "source": [
    "## Data Preparation"
   ]
  },
  {
   "cell_type": "code",
   "execution_count": 54,
   "metadata": {
    "collapsed": true
   },
   "outputs": [],
   "source": [
    "filename = 'train_sample.csv'\n",
    "train_frame = pd.read_csv(filename)\n",
    "del train_frame['attributed_time']\n",
    "class_labels = train_frame['is_attributed'].values\n",
    "del train_frame['is_attributed']\n",
    "train_frame['second'] = pd.to_datetime(train_frame.click_time).dt.second.astype('uint8')\n",
    "train_frame['minute'] = pd.to_datetime(train_frame.click_time).dt.minute.astype('uint8')\n",
    "train_frame['hour'] = pd.to_datetime(train_frame.click_time).dt.hour.astype('uint8')\n",
    "train_frame['day'] = pd.to_datetime(train_frame.click_time).dt.day.astype('uint8')\n",
    "train_frame['month'] = pd.to_datetime(train_frame.click_time).dt.month.astype('uint8')\n",
    "del train_frame['click_time']"
   ]
  },
  {
   "cell_type": "markdown",
   "metadata": {},
   "source": [
    "## Models"
   ]
  },
  {
   "cell_type": "code",
   "execution_count": 84,
   "metadata": {
    "collapsed": true
   },
   "outputs": [],
   "source": [
    "def plotROCcurve(y_test, preds, savepath=None):\n",
    "    fpr, tpr, threshold = metrics.roc_curve(y_test, preds)\n",
    "    roc_auc = metrics.auc(fpr, tpr)\n",
    "    import matplotlib.pyplot as plt\n",
    "    fig = plt.figure()\n",
    "    plt.plot(fpr, tpr, 'b', label = 'AUC = %0.4f' % roc_auc)\n",
    "    plt.legend(loc = 'lower right')\n",
    "    plt.plot([0, 1], [0, 1],'r--')\n",
    "    plt.xlim([0, 1])\n",
    "    plt.ylim([0, 1])\n",
    "    plt.ylabel('True Positive Rate')\n",
    "    plt.xlabel('False Positive Rate')\n",
    "    plt.show()\n",
    "    if savepath is not None:\n",
    "        fig.savefig(savepath, dpi = 100)\n",
    "    \n",
    "def get_models():\n",
    "    lr = LogisticRegression(class_weight='balanced', random_state=42)\n",
    "    rf = RandomForestClassifier(n_estimators=51, max_depth=5, min_samples_split=3, random_state=42, class_weight='balanced')\n",
    "    grad = GradientBoostingClassifier(random_state=42)\n",
    "    ada = AdaBoostClassifier(n_estimators=100, learning_rate=0.15, random_state=42)\n",
    "    bag = BaggingClassifier(n_estimators=51, random_state=42)\n",
    "    extra = ExtraTreesClassifier(n_estimators=51, random_state=42, max_depth=5, class_weight='balanced')\n",
    "    classifier_list = [lr, rf, grad, ada, bag, extra]\n",
    "    classifier_name_list = ['Logistic Regression', 'Random Forests', 'Gradient Boosting', 'AdaBoost', 'Bagging', 'Extra Trees']\n",
    "    return classifier_list, classifier_name_list\n",
    "\n",
    "def evaluate_models(trained_model, trained_model_name, X_test, y_test):\n",
    "    predicted_probs = None\n",
    "    if 'predict_proba' in dir(trained_model):\n",
    "        predicted_probs = trained_model.predict_proba(X_test)[:,1]\n",
    "\n",
    "    predicted_values = trained_model.predict(X_test)\n",
    "\n",
    "    print('---------- For Model Name : ', trained_model_name, ' ---------\\n')\n",
    "    if predicted_probs is not None:\n",
    "        print('roc_auc_score: ', metrics.roc_auc_score(y_test, predicted_probs))\n",
    "        plotROCcurve(y_test, predicted_probs, 'plots/' + trained_model_name + '.png')\n",
    "    print('accuracy_score: ', metrics.accuracy_score(y_test, predicted_values))\n",
    "    print('matthews_corrcoef: ', metrics.matthews_corrcoef(y_test, predicted_values))\n",
    "    print('classification_report:\\n', metrics.classification_report(y_test, predicted_values))\n",
    "    print('-------------------------------------\\n')\n",
    "  "
   ]
  },
  {
   "cell_type": "code",
   "execution_count": 85,
   "metadata": {},
   "outputs": [
    {
     "name": "stdout",
     "output_type": "stream",
     "text": [
      "---------- For Model Name :  Logistic Regression  ---------\n",
      "\n",
      "roc_auc_score:  0.877634045247\n"
     ]
    },
    {
     "data": {
      "image/png": "[encoded data removed]",
      "text/plain": [
       "<matplotlib.figure.Figure at 0x1a19b1e1d0>"
      ]
     },
     "metadata": {},
     "output_type": "display_data"
    },
    {
     "name": "stdout",
     "output_type": "stream",
     "text": [
      "accuracy_score:  0.8196\n",
      "matthews_corrcoef:  0.0840520916042\n",
      "classification_report:\n",
      "              precision    recall  f1-score   support\n",
      "\n",
      "          0       1.00      0.82      0.90     19949\n",
      "          1       0.01      0.82      0.02        51\n",
      "\n",
      "avg / total       1.00      0.82      0.90     20000\n",
      "\n",
      "-------------------------------------\n",
      "\n",
      "---------- For Model Name :  Random Forests  ---------\n",
      "\n",
      "roc_auc_score:  0.970126764426\n"
     ]
    },
    {
     "data": {
      "image/png": "[encoded data removed]",
      "text/plain": [
       "<matplotlib.figure.Figure at 0x1a19b5dfd0>"
      ]
     },
     "metadata": {},
     "output_type": "display_data"
    },
    {
     "name": "stdout",
     "output_type": "stream",
     "text": [
      "accuracy_score:  0.97245\n",
      "matthews_corrcoef:  0.254853085853\n",
      "classification_report:\n",
      "              precision    recall  f1-score   support\n",
      "\n",
      "          0       1.00      0.97      0.99     19949\n",
      "          1       0.08      0.88      0.14        51\n",
      "\n",
      "avg / total       1.00      0.97      0.98     20000\n",
      "\n",
      "-------------------------------------\n",
      "\n",
      "---------- For Model Name :  Gradient Boosting  ---------\n",
      "\n",
      "roc_auc_score:  0.950974986215\n"
     ]
    },
    {
     "data": {
      "image/png": "[encoded data removed]",
      "text/plain": [
       "<matplotlib.figure.Figure at 0x1a2396a588>"
      ]
     },
     "metadata": {},
     "output_type": "display_data"
    },
    {
     "name": "stdout",
     "output_type": "stream",
     "text": [
      "accuracy_score:  0.9974\n",
      "matthews_corrcoef:  0.320056167451\n",
      "classification_report:\n",
      "              precision    recall  f1-score   support\n",
      "\n",
      "          0       1.00      1.00      1.00     19949\n",
      "          1       0.48      0.22      0.30        51\n",
      "\n",
      "avg / total       1.00      1.00      1.00     20000\n",
      "\n",
      "-------------------------------------\n",
      "\n",
      "---------- For Model Name :  AdaBoost  ---------\n",
      "\n",
      "roc_auc_score:  0.963028271111\n"
     ]
    },
    {
     "data": {
      "image/png": "[encoded data removed]",
      "text/plain": [
       "<matplotlib.figure.Figure at 0x1a239c55f8>"
      ]
     },
     "metadata": {},
     "output_type": "display_data"
    },
    {
     "name": "stdout",
     "output_type": "stream",
     "text": [
      "accuracy_score:  0.99735\n",
      "matthews_corrcoef:  -0.000505645607243\n",
      "classification_report:\n",
      "              precision    recall  f1-score   support\n",
      "\n",
      "          0       1.00      1.00      1.00     19949\n",
      "          1       0.00      0.00      0.00        51\n",
      "\n",
      "avg / total       0.99      1.00      1.00     20000\n",
      "\n",
      "-------------------------------------\n",
      "\n",
      "---------- For Model Name :  Bagging  ---------\n",
      "\n",
      "roc_auc_score:  0.896450163603\n"
     ]
    },
    {
     "data": {
      "image/png": "[encoded data removed]",
      "text/plain": [
       "<matplotlib.figure.Figure at 0x1a1860f5c0>"
      ]
     },
     "metadata": {},
     "output_type": "display_data"
    },
    {
     "name": "stdout",
     "output_type": "stream",
     "text": [
      "accuracy_score:  0.9975\n",
      "matthews_corrcoef:  0.38889318247\n",
      "classification_report:\n",
      "              precision    recall  f1-score   support\n",
      "\n",
      "          0       1.00      1.00      1.00     19949\n",
      "          1       0.52      0.29      0.38        51\n",
      "\n",
      "avg / total       1.00      1.00      1.00     20000\n",
      "\n",
      "-------------------------------------\n",
      "\n",
      "---------- For Model Name :  Extra Trees  ---------\n",
      "\n",
      "roc_auc_score:  0.882809006103\n"
     ]
    },
    {
     "data": {
      "image/png": "[encoded data removed]",
      "text/plain": [
       "<matplotlib.figure.Figure at 0x1a18614ba8>"
      ]
     },
     "metadata": {},
     "output_type": "display_data"
    },
    {
     "name": "stdout",
     "output_type": "stream",
     "text": [
      "accuracy_score:  0.89005\n",
      "matthews_corrcoef:  0.0926475763239\n",
      "classification_report:\n",
      "              precision    recall  f1-score   support\n",
      "\n",
      "          0       1.00      0.89      0.94     19949\n",
      "          1       0.02      0.69      0.03        51\n",
      "\n",
      "avg / total       1.00      0.89      0.94     20000\n",
      "\n",
      "-------------------------------------\n",
      "\n"
     ]
    }
   ],
   "source": [
    "X_train, X_test, y_train, y_test = train_test_split(train_frame.values, class_labels, test_size=0.2, random_state=42)\n",
    "classifier_list, classifier_name_list = get_models()\n",
    "for classifier, classifier_name in zip(classifier_list, classifier_name_list):\n",
    "    classifier.fit(X_train, y_train)\n",
    "    evaluate_models(classifier, classifier_name, X_test, y_test)"
   ]
  },
  {
   "cell_type": "code",
   "execution_count": null,
   "metadata": {
    "collapsed": true
   },
   "outputs": [],
   "source": []
  }
 ],
 "metadata": {
  "kernelspec": {
   "display_name": "Python 3",
   "language": "python",
   "name": "python3"
  },
  "language_info": {
   "codemirror_mode": {
    "name": "ipython",
    "version": 3
   },
   "file_extension": ".py",
   "mimetype": "text/x-python",
   "name": "python",
   "nbconvert_exporter": "python",
   "pygments_lexer": "ipython3",
   "version": "3.6.3"
  }
 },
 "nbformat": 4,
 "nbformat_minor": 2
}
